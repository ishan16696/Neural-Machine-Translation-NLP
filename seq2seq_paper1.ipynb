{
 "cells": [
  {
   "cell_type": "code",
   "execution_count": 1,
   "metadata": {
    "colab": {
     "base_uri": "https://localhost:8080/",
     "height": 127
    },
    "colab_type": "code",
    "id": "s_wjmVnuxoKR",
    "outputId": "5b032759-2c2f-4457-f881-bde4f7250512"
   },
   "outputs": [
    {
     "name": "stdout",
     "output_type": "stream",
     "text": [
      "Go to this URL in a browser: https://accounts.google.com/o/oauth2/auth?client_id=947318989803-6bn6qk8qdgf4n4g3pfee6491hc0brc4i.apps.googleusercontent.com&redirect_uri=urn%3aietf%3awg%3aoauth%3a2.0%3aoob&response_type=code&scope=email%20https%3a%2f%2fwww.googleapis.com%2fauth%2fdocs.test%20https%3a%2f%2fwww.googleapis.com%2fauth%2fdrive%20https%3a%2f%2fwww.googleapis.com%2fauth%2fdrive.photos.readonly%20https%3a%2f%2fwww.googleapis.com%2fauth%2fpeopleapi.readonly\n",
      "\n",
      "Enter your authorization code:\n",
      "··········\n",
      "Mounted at /content/gdrive\n"
     ]
    }
   ],
   "source": [
    "from google.colab import drive\n",
    "drive.mount('/content/gdrive')"
   ]
  },
  {
   "cell_type": "code",
   "execution_count": 0,
   "metadata": {
    "colab": {},
    "colab_type": "code",
    "id": "32-yeZoEx1oI"
   },
   "outputs": [],
   "source": [
    "import numpy as np\n",
    "from matplotlib import pyplot as plt\n",
    "%matplotlib inline\n",
    "import unicodedata\n",
    "import string\n",
    "import re\n",
    "import random\n",
    "\n",
    "from __future__ import unicode_literals, print_function, division\n",
    "from io import open\n",
    "\n",
    "\n",
    "import torch\n",
    "import torch.nn as nn\n",
    "from torch import optim\n",
    "import torch.nn.functional as F\n",
    "\n",
    "DEBUG=False\n",
    "device = torch.device(\"cuda\" if torch.cuda.is_available() else \"cpu\")"
   ]
  },
  {
   "cell_type": "code",
   "execution_count": 0,
   "metadata": {
    "colab": {},
    "colab_type": "code",
    "id": "pNkpUwMqyDwF"
   },
   "outputs": [],
   "source": [
    "def file_to_read(path1,path2):\n",
    "    file_train_x=open(path1)\n",
    "    file_train_y=open(path2)\n",
    "    return file_train_x,file_train_y"
   ]
  },
  {
   "cell_type": "code",
   "execution_count": 0,
   "metadata": {
    "colab": {},
    "colab_type": "code",
    "id": "_zOW-n1nyHp8"
   },
   "outputs": [],
   "source": [
    "file_train_x,file_train_y= file_to_read(\"gdrive/My Drive/dataset/train.hi\",\"gdrive/My Drive/dataset/train.en\")\n",
    "file_dev_x,file_dev_y= file_to_read(\"gdrive/My Drive/dataset/dev.hi\",\"gdrive/My Drive/dataset/dev.en\")\n",
    "file_test_x,file_test_y= file_to_read(\"gdrive/My Drive/dataset/test.hi\",\"gdrive/My Drive/dataset/test.en\")\n"
   ]
  },
  {
   "cell_type": "code",
   "execution_count": 0,
   "metadata": {
    "colab": {},
    "colab_type": "code",
    "id": "5gbgKUPcyKIG"
   },
   "outputs": [],
   "source": [
    "hindi_sent=file_train_x.read().split('\\n')[:7000]\n",
    "eng_sent=file_train_y.read().split('\\n')[:7000]\n",
    "if DEBUG:\n",
    "  print(\"-------------------\")\n",
    "  print(eng_sent[0])\n",
    "  print(len(eng_sent))\n",
    "  print(hindi_sent[0])\n",
    "  print(len(hindi_sent))"
   ]
  },
  {
   "cell_type": "code",
   "execution_count": 0,
   "metadata": {
    "colab": {},
    "colab_type": "code",
    "id": "nEpDPGpXyMPg"
   },
   "outputs": [],
   "source": [
    "file1=open(\"gdrive/My Drive/dataset/eng-hindi.txt\",\"w\")\n",
    "for i in range(len(hindi_sent)):\n",
    "  if DEBUG:\n",
    "    print(\"--Writing into file-----\")\n",
    "  file1.write(hindi_sent[i])\n",
    "  file1.write(\"\\t\")\n",
    "  file1.write(eng_sent[i])\n",
    "  file1.write(\"\\n\")\n",
    "\n",
    "file1.flush()\n",
    "file1.close()\n"
   ]
  },
  {
   "cell_type": "code",
   "execution_count": 0,
   "metadata": {
    "colab": {},
    "colab_type": "code",
    "id": "0UvJKFieyO60"
   },
   "outputs": [],
   "source": [
    "SOS_token=0\n",
    "EOS_token=1\n",
    "UNK_token=2"
   ]
  },
  {
   "cell_type": "code",
   "execution_count": 0,
   "metadata": {
    "colab": {},
    "colab_type": "code",
    "id": "e7kxurYmyTCW"
   },
   "outputs": [],
   "source": [
    "class Language:\n",
    "    def __init__(self, name):\n",
    "        self.name = name\n",
    "        self.word2index = {}\n",
    "        self.word2count ={}\n",
    "       \n",
    "        self.index2word = {0: \"SOS\", 1: \"EOS\" ,2:\"UNK\"}\n",
    "        self.n_words = 3\n",
    "\n",
    "    def addWord(self, word):\n",
    "        if word not in self.word2index:\n",
    "            self.word2index[word] = self.n_words\n",
    "            self.word2count[word] = 1\n",
    "            self.index2word[self.n_words] = word\n",
    "            self.n_words = self.n_words+1\n",
    "        else:\n",
    "            self.word2count[word] =self.word2count[word]+1\n",
    "\n",
    "    def addSentence(self, sentence):\n",
    "        for word in sentence.split(' '):\n",
    "            self.addWord(word)\n"
   ]
  },
  {
   "cell_type": "code",
   "execution_count": 0,
   "metadata": {
    "colab": {},
    "colab_type": "code",
    "id": "5j1u1-1QyYOn"
   },
   "outputs": [],
   "source": [
    "def readLangs(lang1, lang2, reverse=False):\n",
    "    \n",
    "    lines = open('gdrive/My Drive/dataset/%s-%s.txt' % (lang1, lang2), encoding='utf-8').read().strip().split('\\n')\n",
    "    \n",
    "    pairs = [[s for s in l.split('\\t')] for l in lines]\n",
    "    if DEBUG:\n",
    "      print(\"---------------------------------\")\n",
    "      print(\"Inside ReadLines functions: \")\n",
    "    if reverse:\n",
    "        pairs = [list(reversed(p)) for p in pairs]\n",
    "        input_lang = Language(lang2)\n",
    "        output_lang = Language(lang1)\n",
    "    else:\n",
    "        input_lang = Language(lang1)\n",
    "        output_lang = Language(lang2)\n",
    "\n",
    "    if DEBUG:\n",
    "      print(\"--------------------------\")\n",
    "      print(\"About to return: \")\n",
    "    return input_lang, output_lang, pairs"
   ]
  },
  {
   "cell_type": "code",
   "execution_count": 0,
   "metadata": {
    "colab": {},
    "colab_type": "code",
    "id": "G9bJLuvhyhLH"
   },
   "outputs": [],
   "source": [
    "def prepareData(lang1, lang2, reverse=False):\n",
    "    input_lang, output_lang, pairs = readLangs(lang1, lang2, reverse)\n",
    "\n",
    "    if DEBUG:\n",
    "      print(\"lenght of pair\", len(pairs))\n",
    "      \n",
    "    for pair in pairs:\n",
    "        input_lang.addSentence(pair[0])\n",
    "        output_lang.addSentence(pair[1])\n",
    "    \n",
    "    if DEBUG:\n",
    "       print(\"name \",input_lang.name,\"words\", input_lang.n_words)\n",
    "       print(\"name\" ,output_lang.name,\"words\", output_lang.n_words)\n",
    "    return input_lang, output_lang, pairs\n"
   ]
  },
  {
   "cell_type": "code",
   "execution_count": 0,
   "metadata": {
    "colab": {},
    "colab_type": "code",
    "id": "CkpfZLbZykFO"
   },
   "outputs": [],
   "source": [
    "input_lang, output_lang, pairs = prepareData('eng', 'hindi',True)\n",
    "MAX_LENGTH=1000\n",
    "if DEBUG:\n",
    "  print(random.choice(pairs))\n"
   ]
  },
  {
   "cell_type": "code",
   "execution_count": 0,
   "metadata": {
    "colab": {},
    "colab_type": "code",
    "id": "P3QwXqZgjkVn"
   },
   "outputs": [],
   "source": [
    "class EncoderRNN(nn.Module):\n",
    "\n",
    "    def __init__(self, input_size, hidden_size):\n",
    "        super(EncoderRNN, self).__init__()\n",
    "\n",
    "        self.hidden_size = hidden_size\n",
    "        self.embedding = nn.Embedding(input_size, hidden_size)\n",
    "        if DEBUG:\n",
    "          print(\"%------------EncodeRNN class ---------------\")\n",
    "        self.gru = nn.GRU(hidden_size, hidden_size)\n",
    "\n",
    "    def forward(self, input, hidden):\n",
    "        embedded = self.embedding(input).view(1, 1, -1)\n",
    "        if DEBUG:\n",
    "          print(\"%------------EncodeRNN class ---------------\")\n",
    "        output, hidden = self.gru(embedded, hidden)\n",
    "        return output,hidden\n",
    "\n",
    "    def initHidden(self):\n",
    "        return torch.zeros(1, 1, self.hidden_size, device=device)"
   ]
  },
  {
   "cell_type": "code",
   "execution_count": 0,
   "metadata": {
    "colab": {},
    "colab_type": "code",
    "id": "LLQN2TwXjk9-"
   },
   "outputs": [],
   "source": [
    "class DecoderRNN(nn.Module):\n",
    "    def __init__(self, hidden_size, output_size):\n",
    "        super(DecoderRNN, self).__init__()\n",
    "        self.hidden_size = hidden_size\n",
    "\n",
    "        self.embedding = nn.Embedding(output_size, hidden_size)\n",
    "        self.gru = nn.GRU(hidden_size, hidden_size)\n",
    "        if DEBUG:\n",
    "          print(\"%------------DecoderRNN class ---------------\")\n",
    "        self.out = nn.Linear(hidden_size, output_size)\n",
    "        self.softmax = nn.LogSoftmax(dim=1)\n",
    "\n",
    "    def forward(self, input, hidden):\n",
    "        output = self.embedding(input).view(1, 1, -1)\n",
    "        output = F.relu(output)\n",
    "        if DEBUG:\n",
    "          print(\"%------------DecoderRNN class ---------------\")\n",
    "        output, hidden = self.gru(output, hidden)\n",
    "        output = self.softmax(self.out(output[0]))\n",
    "        return output, hidden\n",
    "\n",
    "    def initHidden(self):\n",
    "        return torch.zeros(1, 1, self.hidden_size, device=device)"
   ]
  },
  {
   "cell_type": "code",
   "execution_count": 0,
   "metadata": {
    "colab": {},
    "colab_type": "code",
    "id": "Kv3PuRcwFiyt"
   },
   "outputs": [],
   "source": [
    "def indexesFromSentence(lang, sentence):\n",
    "  if DEBUG:\n",
    "    print(\"About to return functions:1 \")\n",
    "  return [lang.word2index[word] if word in lang.word2index else UNK_token for word in sentence.split(' ')]\n",
    "\n",
    "\n",
    "def tensorFromSentence(lang, sentence):\n",
    "  if DEBUG:\n",
    "    print(\"About to return functions:2 \")\n",
    "  indexes = indexesFromSentence(lang, sentence)\n",
    "  indexes.append(EOS_token)\n",
    "  return torch.tensor(indexes, dtype=torch.long, device=device).view(-1, 1)\n",
    "\n",
    "\n",
    "def tensorsFromPair(pair):\n",
    "  if DEBUG:\n",
    "    print(\"About to return functions:3 \")\n",
    "  input_tensor = tensorFromSentence(input_lang, pair[0])\n",
    "  target_tensor = tensorFromSentence(output_lang, pair[1])\n",
    "  return (input_tensor, target_tensor)"
   ]
  },
  {
   "cell_type": "code",
   "execution_count": 0,
   "metadata": {
    "colab": {},
    "colab_type": "code",
    "id": "0Ls8X7UHFrQO"
   },
   "outputs": [],
   "source": [
    "teacher_forcing_ratio = 0.4\n",
    "\n",
    "def train(input_tensor, target_tensor, encoder, decoder, encoder_optimizer, decoder_optimizer, criterion, max_length=MAX_LENGTH):\n",
    "    encoder_hidden = encoder.initHidden()\n",
    "\n",
    "    encoder_optimizer.zero_grad()\n",
    "    decoder_optimizer.zero_grad()\n",
    "\n",
    "    input_length = input_tensor.size(0)\n",
    "    if DEBUG:\n",
    "      print(input_length)\n",
    "    target_length = target_tensor.size(0)\n",
    "    if DEBUG:\n",
    "      print(input_length)\n",
    "      print(target_length)\n",
    "    encoder_outputs = torch.zeros(max_length, encoder.hidden_size, device=device)\n",
    "    if DEBUG:\n",
    "      print(encoder_outputs)\n",
    "\n",
    "    loss = 0\n",
    "\n",
    "    for ei in range(input_length):\n",
    "        encoder_output, encoder_hidden = encoder(input_tensor[ei], encoder_hidden)\n",
    "        encoder_outputs[ei] = encoder_output[0, 0]\n",
    "\n",
    "    decoder_input = torch.tensor([[SOS_token]], device=device)\n",
    "\n",
    "    decoder_hidden = encoder_hidden\n",
    "\n",
    "    use_teacher_forcing = False\n",
    "    if random.random() < teacher_forcing_ratio:\n",
    "      use_teacher_forcing=True\n",
    "    else:\n",
    "      use_teacher_forcing=False\n",
    "\n",
    "    if use_teacher_forcing:\n",
    "        for di in range(target_length):\n",
    "            decoder_output, decoder_hidden = decoder(decoder_input, decoder_hidden)\n",
    "            loss =loss+ criterion(decoder_output, target_tensor[di])\n",
    "            decoder_input = target_tensor[di] \n",
    "\n",
    "    else:\n",
    "        for di in range(target_length):\n",
    "            decoder_output, decoder_hidden = decoder(decoder_input, decoder_hidden)\n",
    "            topv, topi = decoder_output.topk(1)\n",
    "            decoder_input = topi.squeeze().detach()\n",
    "\n",
    "            loss =loss+ criterion(decoder_output, target_tensor[di])\n",
    "            if decoder_input.item() == EOS_token:\n",
    "                break\n",
    "\n",
    "    loss.backward()\n",
    "\n",
    "    encoder_optimizer.step()\n",
    "    decoder_optimizer.step()\n",
    "\n",
    "    return loss.item() / target_length"
   ]
  },
  {
   "cell_type": "code",
   "execution_count": 0,
   "metadata": {
    "colab": {},
    "colab_type": "code",
    "id": "yOvlTSKdF62T"
   },
   "outputs": [],
   "source": []
  },
  {
   "cell_type": "code",
   "execution_count": 0,
   "metadata": {
    "colab": {},
    "colab_type": "code",
    "id": "xpecjiKvF7ha"
   },
   "outputs": [],
   "source": []
  },
  {
   "cell_type": "code",
   "execution_count": 0,
   "metadata": {
    "colab": {},
    "colab_type": "code",
    "id": "VB5kz35sGEBo"
   },
   "outputs": [],
   "source": [
    "def trainIters(encoder1, decoder1, n_iters, printEvery, plot_every=100, learning_rate=0.02):\n",
    "    start = time.time()\n",
    "    plot_losses = []\n",
    "    print_loss_total = 0 \n",
    "    if DEBUG:\n",
    "      print(\"Inside TrainIters\")\n",
    "      print(print_loss_total)\n",
    "    plot_loss_total = 0  \n",
    "\n",
    "    encoder_optimizer = optim.SGD(encoder1.parameters(), lr=learning_rate)\n",
    "    decoder_optimizer = optim.SGD(decoder1.parameters(), lr=learning_rate)\n",
    "    training_pairs = [tensorsFromPair(random.choice(pairs))\n",
    "                      for i in range(n_iters)]\n",
    "    criterion = nn.NLLLoss()\n",
    "\n",
    "    for iter in range(1, n_iters + 1):\n",
    "        training_pair = training_pairs[iter - 1]\n",
    "        input_tensor = training_pair[0]\n",
    "        target_tensor = training_pair[1]\n",
    "\n",
    "        loss = train(input_tensor, target_tensor, encoder1,decoder1, encoder_optimizer, decoder_optimizer, criterion)\n",
    "        print_loss_total = print_loss_total+ loss\n",
    "        plot_loss_total =plot_loss_total+ loss\n",
    "        if DEBUG:\n",
    "          print(\"Total loss\",plot_loss_total)\n",
    "          \n",
    "        if iter % printEvery == 0:\n",
    "            print_loss_avg = print_loss_total / printEvery\n",
    "            print_loss_total = 0\n",
    "            print('%s (%d %d%%) %.4f' % (timeSince(start, iter / n_iters),iter, iter / n_iters * 100, print_loss_avg))\n",
    "            if DEBUG:\n",
    "              print(\"Inside print\")\n",
    "              print(print_loss_total)\n",
    "\n",
    "        if iter % printEvery == 0:\n",
    "            plot_loss_avg = plot_loss_total / plot_every\n",
    "            plot_losses.append(plot_loss_avg)\n",
    "            plot_loss_total = 0\n"
   ]
  },
  {
   "cell_type": "code",
   "execution_count": 0,
   "metadata": {
    "colab": {},
    "colab_type": "code",
    "id": "oAFO0TdLGFDV"
   },
   "outputs": [],
   "source": [
    "def evaluate(encoder, decoder, sentence, max_length=MAX_LENGTH):\n",
    "    with torch.no_grad():\n",
    "        input_tensor = tensorFromSentence(input_lang, sentence)\n",
    "        input_length = input_tensor.size()[0]\n",
    "        encoder_hidden = encoder.initHidden()\n",
    "\n",
    "        encoder_outputs = torch.zeros(max_length, encoder.hidden_size, device=device)\n",
    "\n",
    "        for ei in range(input_length):\n",
    "            encoder_output, encoder_hidden = encoder(input_tensor[ei],encoder_hidden)\n",
    "            encoder_outputs[ei] =encoder_outputs[ei]+ encoder_output[0, 0]\n",
    "\n",
    "        decoder_input = torch.tensor([[SOS_token]], device=device)  # SOS\n",
    "\n",
    "        decoder_hidden = encoder_hidden\n",
    "\n",
    "        decoded_words = []\n",
    "        decoder_attentions = torch.zeros(max_length, max_length)\n",
    "\n",
    "        for di in range(max_length):\n",
    "            decoder_output, decoder_hidden = decoder(decoder_input, decoder_hidden)\n",
    "            \n",
    "            topv, topi = decoder_output.data.topk(1)\n",
    "            if topi.item() == EOS_token:\n",
    "                decoded_words.append('<EOS>')\n",
    "                break\n",
    "            else:\n",
    "                decoded_words.append(output_lang.index2word[topi.item()])\n",
    "\n",
    "            decoder_input = topi.squeeze().detach()\n",
    "\n",
    "        return decoded_words, decoder_attentions[:di + 1]"
   ]
  },
  {
   "cell_type": "code",
   "execution_count": 0,
   "metadata": {
    "colab": {},
    "colab_type": "code",
    "id": "klkvgX63GRcl"
   },
   "outputs": [],
   "source": []
  },
  {
   "cell_type": "code",
   "execution_count": 0,
   "metadata": {
    "colab": {},
    "colab_type": "code",
    "id": "Jgf8aXpVGSnf"
   },
   "outputs": [],
   "source": []
  },
  {
   "cell_type": "code",
   "execution_count": 0,
   "metadata": {
    "colab": {},
    "colab_type": "code",
    "id": "SbRUlqvW5Qr-"
   },
   "outputs": [],
   "source": [
    "hidden_size = 256\n",
    "iterations=7000\n",
    "learningRate=0.01"
   ]
  },
  {
   "cell_type": "code",
   "execution_count": 0,
   "metadata": {
    "colab": {
     "base_uri": "https://localhost:8080/",
     "height": 269
    },
    "colab_type": "code",
    "id": "WkKSpfSfGcWk",
    "outputId": "85e53ce6-2629-42d6-9c40-56a34b9607cc"
   },
   "outputs": [
    {
     "name": "stdout",
     "output_type": "stream",
     "text": [
      "2m 20s (- 30m 25s) (5000 7%) 5.0291\n",
      "4m 40s (- 28m 4s) (10000 14%) 4.8924\n",
      "7m 12s (- 26m 24s) (15000 21%) 4.8761\n",
      "9m 43s (- 24m 19s) (20000 28%) 4.6614\n",
      "12m 15s (- 22m 4s) (25000 35%) 4.4775\n",
      "14m 44s (- 19m 39s) (30000 42%) 4.2838\n",
      "17m 15s (- 17m 15s) (35000 50%) 4.0949\n",
      "19m 49s (- 14m 51s) (40000 57%) 3.9609\n",
      "22m 21s (- 12m 25s) (45000 64%) 3.8227\n",
      "24m 56s (- 9m 58s) (50000 71%) 3.7260\n",
      "27m 32s (- 7m 30s) (55000 78%) 3.6089\n",
      "30m 2s (- 5m 0s) (60000 85%) 3.4792\n",
      "32m 37s (- 2m 30s) (65000 92%) 3.4479\n",
      "35m 13s (- 0m 0s) (70000 100%) 3.3908\n"
     ]
    }
   ],
   "source": [
    "\n",
    "encoder1 = EncoderRNN(input_lang.n_words, hidden_size).to(device)\n",
    "decoder1 = DecoderRNN(hidden_size, output_lang.n_words).to(device)\n",
    "\n",
    "trainIters(encoder1, decoder1,iterations, print_every=5000)"
   ]
  },
  {
   "cell_type": "markdown",
   "metadata": {
    "colab_type": "text",
    "id": "lX9KzmO1atHH"
   },
   "source": [
    "SAve the model"
   ]
  },
  {
   "cell_type": "code",
   "execution_count": 0,
   "metadata": {
    "colab": {},
    "colab_type": "code",
    "id": "VIJ5EtxMaslE"
   },
   "outputs": [],
   "source": [
    "torch.save(encoder1.state_dict(), \"gdrive/My Drive/dataset/encoder1\")\n",
    "device = torch.device('cpu')\n",
    "torch.save(decoder1.state_dict(), \"gdrive/My Drive/dataset/decoder1\")\n"
   ]
  },
  {
   "cell_type": "markdown",
   "metadata": {
    "colab_type": "text",
    "id": "v27edvqHbAaQ"
   },
   "source": [
    "Load the model"
   ]
  },
  {
   "cell_type": "code",
   "execution_count": 19,
   "metadata": {
    "colab": {
     "base_uri": "https://localhost:8080/",
     "height": 35
    },
    "colab_type": "code",
    "id": "UMaDKnem6yZk",
    "outputId": "c73a93f9-6544-4579-fb0e-f732cf7a725e"
   },
   "outputs": [
    {
     "data": {
      "text/plain": [
       "<All keys matched successfully>"
      ]
     },
     "execution_count": 19,
     "metadata": {
      "tags": []
     },
     "output_type": "execute_result"
    }
   ],
   "source": [
    "\n",
    "device = torch.device('cpu')\n",
    "encoder_model = EncoderRNN(input_lang.n_words, hidden_size).to(device)\n",
    "encoder_model.load_state_dict(torch.load(\"gdrive/My Drive/dataset/encoder1\", map_location=device))\n",
    "\n",
    "\n",
    "decoder_model = DecoderRNN(hidden_size, output_lang.n_words).to(device)\n",
    "decoder_model.load_state_dict(torch.load(\"gdrive/My Drive/dataset/decoder1\", map_location=device))"
   ]
  },
  {
   "cell_type": "code",
   "execution_count": 0,
   "metadata": {
    "colab": {},
    "colab_type": "code",
    "id": "27n8CeVy6rVi"
   },
   "outputs": [],
   "source": []
  },
  {
   "cell_type": "code",
   "execution_count": 0,
   "metadata": {
    "colab": {},
    "colab_type": "code",
    "id": "Ny4s4VVyfxJr"
   },
   "outputs": [],
   "source": [
    "Immediately contact the doctor on feeling any abnormality ."
   ]
  },
  {
   "cell_type": "code",
   "execution_count": 0,
   "metadata": {
    "colab": {},
    "colab_type": "code",
    "id": "8rYxod-2oAKN"
   },
   "outputs": [],
   "source": [
    "hindi_dev_sent=file_dev_x.read().split('\\n')\n",
    "eng_dev_sent=file_dev_y.read().split('\\n')\n",
    "hindi_test_sent=file_test_x.read().split('\\n')\n",
    "eng_test_sent=file_test_y.read().split('\\n')\n",
    "if DEBUG:\n",
    "    print(eng_dev_sent[0])\n",
    "    print(len(eng_dev_sent))\n",
    "    print(hindi_dev_sent[0])\n",
    "    print(len(hindi_dev_sent))\n",
    "    print(eng_test_sent[0])\n",
    "    print(len(eng_test_sent))\n",
    "    print(hindi_test_sent[0])\n",
    "    print(len(hindi_test_sent))"
   ]
  },
  {
   "cell_type": "code",
   "execution_count": 21,
   "metadata": {
    "colab": {
     "base_uri": "https://localhost:8080/",
     "height": 35
    },
    "colab_type": "code",
    "id": "Wh7a1KmVpPC-",
    "outputId": "b1850292-4eeb-46dc-b0d4-cd3f6bd98764"
   },
   "outputs": [
    {
     "name": "stdout",
     "output_type": "stream",
     "text": [
      "['उसे', 'चाय', 'जल', 'में', 'गर्म', 'पानी', 'का', 'गर्म', 'लें', 'और', 'पानी', 'में', 'मिलाकर', 'लें', '।', '।', 'लें', '।', '<EOS>']\n"
     ]
    }
   ],
   "source": [
    "output_words= evaluate(encoder_model, decoder_model, \"Put two spoons of sugar and a pinch of salt in a glass of water and boil it\")\n",
    "print(output_words[0])\n",
    "if DEBUG:\n",
    "  print(output_words)"
   ]
  },
  {
   "cell_type": "code",
   "execution_count": 25,
   "metadata": {
    "colab": {
     "base_uri": "https://localhost:8080/",
     "height": 287
    },
    "colab_type": "code",
    "id": "A54EQRr0MKBv",
    "outputId": "5940a6ad-eb20-40b7-dd75-b109e1f2ae9e"
   },
   "outputs": [
    {
     "name": "stdout",
     "output_type": "stream",
     "text": [
      "Saliva is formed by chewing the chewing gum .\n",
      "['एक', 'विशेष', 'तक', 'जीवाणु', 'की', 'एक', '-', 'एक', 'विशेष', '।', '<EOS>']\n",
      "bleu Score :  0.135\n",
      "Chewing gum helps in keeping the teeth clean .\n",
      "['दाँत', 'में', 'में', 'साफ', 'दाँत', 'साफ', '।', '।', '<EOS>']\n",
      "bleu Score :  0.138\n",
      "Sugared chewing gum is not supposed to be good for health .\n",
      "['अच्छी', 'स्वास्थ्य', 'का', 'है', 'लिए', 'है', 'है', 'आवश्यक', 'है', 'है', '।', 'आवश्यक', 'है', '।', '<EOS>']\n",
      "bleu Score :  0.177\n",
      "That is why dentists do not suggest chewing sugared chewing gum .\n",
      "['अब', 'चिकित्सा', 'की', 'सर्जरी', 'गए', 'ना', 'रह', 'जाती', 'है', '।', '<EOS>']\n",
      "bleu Score :  0.195\n",
      "Get the teeth checked-up regularly .\n",
      "['दाँतों', 'के', 'साफ', 'सफाई', 'साफ', 'करें', '।', '<EOS>']\n",
      "bleu Score :  0.108\n"
     ]
    }
   ],
   "source": [
    "from nltk.translate.bleu_score import sentence_bleu\n",
    "\n",
    "for i in eng_test_sent[15:20]:\n",
    "  print(i)\n",
    "  output_words= evaluate(encoder_model, decoder_model,i)\n",
    "  print(output_words[0])\n",
    "  score = sentence_bleu(i, output_words[0])\n",
    "  print(\"bleu Score : \",score)\n",
    "\n"
   ]
  },
  {
   "cell_type": "code",
   "execution_count": 0,
   "metadata": {
    "colab": {},
    "colab_type": "code",
    "id": "YosrFiNsCtoP"
   },
   "outputs": [],
   "source": []
  }
 ],
 "metadata": {
  "accelerator": "GPU",
  "colab": {
   "name": "seq2seq_paper1.ipynb",
   "provenance": []
  },
  "kernelspec": {
   "display_name": "Python 3",
   "language": "python",
   "name": "python3"
  },
  "language_info": {
   "codemirror_mode": {
    "name": "ipython",
    "version": 3
   },
   "file_extension": ".py",
   "mimetype": "text/x-python",
   "name": "python",
   "nbconvert_exporter": "python",
   "pygments_lexer": "ipython3",
   "version": "3.6.9"
  }
 },
 "nbformat": 4,
 "nbformat_minor": 1
}
