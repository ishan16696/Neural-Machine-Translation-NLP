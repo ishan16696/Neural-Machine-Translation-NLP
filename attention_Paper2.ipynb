{
 "cells": [
  {
   "cell_type": "code",
   "execution_count": 1,
   "metadata": {
    "colab": {
     "base_uri": "https://localhost:8080/",
     "height": 127
    },
    "colab_type": "code",
    "id": "mDuYt9TiMEv7",
    "outputId": "45731a31-c3ac-4be5-b670-a396ef1101e1"
   },
   "outputs": [
    {
     "name": "stdout",
     "output_type": "stream",
     "text": [
      "Go to this URL in a browser: https://accounts.google.com/o/oauth2/auth?client_id=947318989803-6bn6qk8qdgf4n4g3pfee6491hc0brc4i.apps.googleusercontent.com&redirect_uri=urn%3aietf%3awg%3aoauth%3a2.0%3aoob&response_type=code&scope=email%20https%3a%2f%2fwww.googleapis.com%2fauth%2fdocs.test%20https%3a%2f%2fwww.googleapis.com%2fauth%2fdrive%20https%3a%2f%2fwww.googleapis.com%2fauth%2fdrive.photos.readonly%20https%3a%2f%2fwww.googleapis.com%2fauth%2fpeopleapi.readonly\n",
      "\n",
      "Enter your authorization code:\n",
      "··········\n",
      "Mounted at /content/gdrive\n"
     ]
    }
   ],
   "source": [
    "from google.colab import drive\n",
    "drive.mount('/content/gdrive')"
   ]
  },
  {
   "cell_type": "code",
   "execution_count": 0,
   "metadata": {
    "colab": {},
    "colab_type": "code",
    "id": "z5jmTZ9O2U1J"
   },
   "outputs": [],
   "source": [
    "import numpy as np\n",
    "from matplotlib import pyplot as plt\n",
    "from __future__ import unicode_literals, print_function, division\n",
    "from io import open\n",
    "import unicodedata\n",
    "import string\n",
    "import re\n",
    "import random\n",
    "\n",
    "import torch\n",
    "import torch.nn as nn\n",
    "from torch import optim\n",
    "import torch.nn.functional as F\n",
    "\n",
    "DEBUG=False\n",
    "device = torch.device(\"cuda\" if torch.cuda.is_available() else \"cpu\")"
   ]
  },
  {
   "cell_type": "code",
   "execution_count": 0,
   "metadata": {
    "colab": {},
    "colab_type": "code",
    "id": "fvUC3VDtN6EA"
   },
   "outputs": [],
   "source": [
    "def file_to_read(path1,path2):\n",
    "    file_train_x=open(path1)\n",
    "    file_train_y=open(path2)\n",
    "    return file_train_x,file_train_y"
   ]
  },
  {
   "cell_type": "code",
   "execution_count": 0,
   "metadata": {
    "colab": {},
    "colab_type": "code",
    "id": "SNMpUxOiQuYc"
   },
   "outputs": [],
   "source": [
    "file_train_x,file_train_y= file_to_read(\"gdrive/My Drive/dataset/train.hi\",\"gdrive/My Drive/dataset/train.en\")\n",
    "file_dev_x,file_dev_y= file_to_read(\"gdrive/My Drive/dataset/dev.hi\",\"gdrive/My Drive/dataset/dev.en\")\n",
    "file_test_x,file_test_y= file_to_read(\"gdrive/My Drive/dataset/test.hi\",\"gdrive/My Drive/dataset/test.en\")\n"
   ]
  },
  {
   "cell_type": "code",
   "execution_count": 0,
   "metadata": {
    "colab": {},
    "colab_type": "code",
    "id": "xB32v-uRRJOb"
   },
   "outputs": [],
   "source": [
    "hindi_sent=file_train_x.read().split('\\n')[:5000]\n",
    "eng_sent=file_train_y.read().split('\\n')[:5000]\n",
    "if DEBUG:\n",
    "    print(\"-----------------------------\")\n",
    "    print(eng_sent[0])\n",
    "    print(len(eng_sent))\n",
    "    print(hindi_sent[0])\n",
    "    print(len(hindi_sent))"
   ]
  },
  {
   "cell_type": "code",
   "execution_count": 0,
   "metadata": {
    "colab": {},
    "colab_type": "code",
    "id": "GUqJPy9RRV-r"
   },
   "outputs": [],
   "source": [
    "file1=open(\"gdrive/My Drive/dataset/eng-hindi.txt\",\"w\")\n",
    "for i in range(len(hindi_sent)):\n",
    "  if DEBUG:\n",
    "    print(\"--Writing into file-----\")\n",
    "  file1.write(hindi_sent[i])\n",
    "  file1.write(\"\\t\")\n",
    "  file1.write(eng_sent[i])\n",
    "  file1.write(\"\\n\")\n",
    "\n",
    "file1.flush()\n",
    "file1.close()\n"
   ]
  },
  {
   "cell_type": "code",
   "execution_count": 0,
   "metadata": {
    "colab": {},
    "colab_type": "code",
    "id": "mrEFykvZD6GB"
   },
   "outputs": [],
   "source": [
    "SOS_token=0\n",
    "EOS_token=1\n",
    "UNK_token=2"
   ]
  },
  {
   "cell_type": "code",
   "execution_count": 0,
   "metadata": {
    "colab": {},
    "colab_type": "code",
    "id": "1ssHaJUPqWNe"
   },
   "outputs": [],
   "source": [
    "class Language:\n",
    "    def __init__(self, name):\n",
    "        self.name = name\n",
    "        self.word2index = {}\n",
    "        self.word2count ={}\n",
    "        \n",
    "        self.index2word = {0: \"SOS\", 1: \"EOS\" ,2:\"UNK\"}\n",
    "        self.n_words = 3\n",
    "\n",
    "    def addWord(self, word):\n",
    "        if word not in self.word2index:\n",
    "            self.word2index[word] = self.n_words\n",
    "            self.word2count[word] = 1\n",
    "            self.index2word[self.n_words] = word\n",
    "            self.n_words = self.n_words+1\n",
    "        else:\n",
    "            self.word2count[word] =self.word2count[word]+1\n",
    "\n",
    "    def addSentence(self, sentence):\n",
    "        for word in sentence.split(' '):\n",
    "            self.addWord(word)\n",
    "\n",
    "    "
   ]
  },
  {
   "cell_type": "code",
   "execution_count": 0,
   "metadata": {
    "colab": {},
    "colab_type": "code",
    "id": "wXlT9-8RSSei"
   },
   "outputs": [],
   "source": [
    "def readLangs(lang1, lang2, reverse=False):\n",
    "    \n",
    "    lines = open('gdrive/My Drive/dataset/%s-%s.txt' % (lang1, lang2), encoding='utf-8').read().strip().split('\\n')\n",
    "    \n",
    "    pairs = [[s for s in l.split('\\t')] for l in lines]\n",
    "    if DEBUG:\n",
    "      print(\"---------------------------------\")\n",
    "      print(\"Inside ReadLines functions: \")\n",
    "    if reverse:\n",
    "        pairs = [list(reversed(p)) for p in pairs]\n",
    "        input_lang = Language(lang2)\n",
    "        output_lang = Language(lang1)\n",
    "    else:\n",
    "        input_lang = Language(lang1)\n",
    "        output_lang = Language(lang2)\n",
    "\n",
    "    if DEBUG:\n",
    "      print(\"--------------------------\")\n",
    "      print(\"About to return: \")\n",
    "    return input_lang, output_lang, pairs"
   ]
  },
  {
   "cell_type": "code",
   "execution_count": 0,
   "metadata": {
    "colab": {},
    "colab_type": "code",
    "id": "9MCBHqHTSpjv"
   },
   "outputs": [],
   "source": [
    "def prepareData(lang1, lang2, reverse=False):\n",
    "    input_lang, output_lang, pairs = readLangs(lang1, lang2, reverse)\n",
    "\n",
    "    if DEBUG:\n",
    "      print(\"lenght of pair\", len(pairs))\n",
    "      \n",
    "    for pair in pairs:\n",
    "        input_lang.addSentence(pair[0])\n",
    "        output_lang.addSentence(pair[1])\n",
    "    \n",
    "    if DEBUG:\n",
    "       print(\"name \",input_lang.name,\"words\", input_lang.n_words)\n",
    "       print(\"name\" ,output_lang.name,\"words\", output_lang.n_words)\n",
    "    return input_lang, output_lang, pairs\n"
   ]
  },
  {
   "cell_type": "code",
   "execution_count": 0,
   "metadata": {
    "colab": {},
    "colab_type": "code",
    "id": "cmXBfG6aSxMa"
   },
   "outputs": [],
   "source": [
    "input_lang, output_lang, pairs = prepareData('eng', 'hindi',True)\n",
    "MAX_LENGTH=1000\n",
    "if DEBUG:\n",
    "  print(random.choice(pairs))\n"
   ]
  },
  {
   "cell_type": "code",
   "execution_count": 0,
   "metadata": {
    "colab": {},
    "colab_type": "code",
    "id": "-XFTCGfKMI53"
   },
   "outputs": [],
   "source": []
  },
  {
   "cell_type": "code",
   "execution_count": 0,
   "metadata": {
    "colab": {},
    "colab_type": "code",
    "id": "qWzuvO0bqXlT"
   },
   "outputs": [],
   "source": [
    "class EncoderRNN(nn.Module):\n",
    "\n",
    "    def __init__(self, input_size, hidden_size):\n",
    "        super(EncoderRNN, self).__init__()\n",
    "\n",
    "        self.hidden_size = hidden_size\n",
    "        if DEBUG:\n",
    "          print(\"%------------EncodeRNN class ---------------\")\n",
    "        self.embedding = nn.Embedding(input_size, hidden_size)\n",
    "        self.gru = nn.GRU(hidden_size, hidden_size)\n",
    "\n",
    "    def forward(self, input, hidden):\n",
    "        embedded = self.embedding(input).view(1, 1, -1)\n",
    "        if DEBUG:\n",
    "          print(\"%------------EncodeRNN class ---------------\")\n",
    "        output, hidden = self.gru(embedded, hidden)\n",
    "        return output, hidden\n",
    "\n",
    "    def initHidden(self):\n",
    "        return torch.zeros(1, 1, self.hidden_size, device=device)"
   ]
  },
  {
   "cell_type": "code",
   "execution_count": 0,
   "metadata": {
    "colab": {},
    "colab_type": "code",
    "id": "PqTUN-MBfTF7"
   },
   "outputs": [],
   "source": [
    "class DecoderRNN(nn.Module):\n",
    "    def __init__(self, hidden_size, output_size):\n",
    "        super(DecoderRNN, self).__init__()\n",
    "        self.hidden_size = hidden_size\n",
    "\n",
    "        self.embedding = nn.Embedding(output_size, hidden_size)\n",
    "        self.gru = nn.GRU(hidden_size, hidden_size)\n",
    "        if DEBUG:\n",
    "          print(\"%------------DecoderRNN class ---------------\")\n",
    "        self.out = nn.Linear(hidden_size, output_size)\n",
    "        self.softmax = nn.LogSoftmax(dim=1)\n",
    "\n",
    "    def forward(self, input, hidden):\n",
    "        output = self.embedding(input).view(1, 1, -1)\n",
    "        output = F.relu(output)\n",
    "        if DEBUG:\n",
    "          print(\"%------------DecoderRNN class ---------------\")\n",
    "        output, hidden = self.gru(output, hidden)\n",
    "        output = self.softmax(self.out(output[0]))\n",
    "        return output, hidden\n",
    "\n",
    "    def initHidden(self):\n",
    "        return torch.zeros(1, 1, self.hidden_size, device=device)"
   ]
  },
  {
   "cell_type": "code",
   "execution_count": 0,
   "metadata": {
    "colab": {},
    "colab_type": "code",
    "id": "Kai96ZAR79WQ"
   },
   "outputs": [],
   "source": [
    "class AttnDecoderRNN(nn.Module):\n",
    "    def __init__(self, hidden_size, output_size, dropout_p=0.1, max_length=MAX_LENGTH):\n",
    "        super(AttnDecoderRNN, self).__init__()\n",
    "        self.hidden_size = hidden_size\n",
    "        self.output_size = output_size\n",
    "        self.dropout_p = dropout_p\n",
    "        self.max_length = max_length\n",
    "\n",
    "        self.embedding = nn.Embedding(self.output_size, self.hidden_size)\n",
    "        if DEBUG:\n",
    "          print(\"%------------Atten_DecoderRNN class ---------------\")\n",
    "        self.attn = nn.Linear(self.hidden_size * 2, self.max_length)\n",
    "        self.attn_combine = nn.Linear(self.hidden_size * 2, self.hidden_size)\n",
    "        self.dropout = nn.Dropout(self.dropout_p)\n",
    "        self.gru = nn.GRU(self.hidden_size, self.hidden_size)\n",
    "        self.out = nn.Linear(self.hidden_size, self.output_size)\n",
    "\n",
    "    def forward(self, input, hidden, encoder_outputs):\n",
    "        embedded = self.embedding(input).view(1, 1, -1)\n",
    "        embedded = self.dropout(embedded)\n",
    "\n",
    "        attn_weights = F.softmax(\n",
    "            self.attn(torch.cat((embedded[0], hidden[0]), 1)), dim=1)\n",
    "        attn_applied = torch.bmm(attn_weights.unsqueeze(0),encoder_outputs.unsqueeze(0))\n",
    "\n",
    "        output = torch.cat((embedded[0], attn_applied[0]), 1)\n",
    "        if DEBUG:\n",
    "          print(\"%------------Attn_FrowardDecoderRNN class ---------------\")\n",
    "        output = self.attn_combine(output).unsqueeze(0)\n",
    "\n",
    "        output = F.relu(output)\n",
    "        output, hidden = self.gru(output, hidden)\n",
    "\n",
    "        output = F.log_softmax(self.out(output[0]), dim=1)\n",
    "        return output, hidden, attn_weights\n",
    "\n",
    "    def initHidden(self):\n",
    "        return torch.zeros(1, 1, self.hidden_size, device=device)"
   ]
  },
  {
   "cell_type": "code",
   "execution_count": 0,
   "metadata": {
    "colab": {},
    "colab_type": "code",
    "id": "8fuPZbGA7-CP"
   },
   "outputs": [],
   "source": [
    "def indexesFromSentence(lang, sentence):\n",
    "  if DEBUG:\n",
    "    print(\"About to return functions:1 \")\n",
    "  return [lang.word2index[word] if word in lang.word2index else UNK_token for word in sentence.split(' ')]\n",
    "\n",
    "\n",
    "def tensorFromSentence(lang, sentence):\n",
    "  if DEBUG:\n",
    "    print(\"About to return functions:2 \")\n",
    "  indexes = indexesFromSentence(lang, sentence)\n",
    "  indexes.append(EOS_token)\n",
    "  return torch.tensor(indexes, dtype=torch.long, device=device).view(-1, 1)\n",
    "\n",
    "\n",
    "def tensorsFromPair(pair):\n",
    "  if DEBUG:\n",
    "    print(\"About to return functions:3 \")\n",
    "  input_tensor = tensorFromSentence(input_lang, pair[0])\n",
    "  target_tensor = tensorFromSentence(output_lang, pair[1])\n",
    "  return (input_tensor, target_tensor)"
   ]
  },
  {
   "cell_type": "code",
   "execution_count": 0,
   "metadata": {
    "colab": {},
    "colab_type": "code",
    "id": "O4HbppRk8BW6"
   },
   "outputs": [],
   "source": [
    "teacher_forcing_ratio = 0.4\n",
    "\n",
    "def train(input_tensor, target_tensor, encoder, decoder, encoder_optimizer, decoder_optimizer, criterion, max_length=MAX_LENGTH):\n",
    "    encoder_hidden = encoder.initHidden()\n",
    "\n",
    "    encoder_optimizer.zero_grad()\n",
    "    decoder_optimizer.zero_grad()\n",
    "\n",
    "    input_length = input_tensor.size(0)\n",
    "    if DEBUG:\n",
    "      print(input_length)\n",
    "    target_length = target_tensor.size(0)\n",
    "    if DEBUG:\n",
    "      print(input_length)\n",
    "      print(target_length)\n",
    "    encoder_outputs = torch.zeros(max_length, encoder.hidden_size, device=device)\n",
    "    if DEBUG:\n",
    "      print(encoder_outputs)\n",
    "\n",
    "    loss = 0\n",
    "\n",
    "    for ei in range(input_length):\n",
    "        encoder_output, encoder_hidden = encoder(input_tensor[ei], encoder_hidden)\n",
    "        encoder_outputs[ei] = encoder_output[0, 0]\n",
    "\n",
    "    decoder_input = torch.tensor([[SOS_token]], device=device)\n",
    "\n",
    "    decoder_hidden = encoder_hidden\n",
    "\n",
    "    use_teacher_forcing = False\n",
    "    if random.random() < teacher_forcing_ratio:\n",
    "      use_teacher_forcing=True\n",
    "    else:\n",
    "      use_teacher_forcing=False\n",
    "\n",
    "    if use_teacher_forcing:\n",
    "        for di in range(target_length):\n",
    "            decoder_output, decoder_hidden = decoder(decoder_input, decoder_hidden)\n",
    "            loss =loss+ criterion(decoder_output, target_tensor[di])\n",
    "            decoder_input = target_tensor[di] \n",
    "\n",
    "    else:\n",
    "        for di in range(target_length):\n",
    "            decoder_output, decoder_hidden = decoder(decoder_input, decoder_hidden)\n",
    "            topv, topi = decoder_output.topk(1)\n",
    "            decoder_input = topi.squeeze().detach()\n",
    "\n",
    "            loss =loss+ criterion(decoder_output, target_tensor[di])\n",
    "            if decoder_input.item() == EOS_token:\n",
    "                break\n",
    "\n",
    "    loss.backward()\n",
    "\n",
    "    encoder_optimizer.step()\n",
    "    decoder_optimizer.step()\n",
    "\n",
    "    return loss.item() / target_length"
   ]
  },
  {
   "cell_type": "code",
   "execution_count": 0,
   "metadata": {
    "colab": {},
    "colab_type": "code",
    "id": "TUXZWucu3U05"
   },
   "outputs": [],
   "source": []
  },
  {
   "cell_type": "code",
   "execution_count": 0,
   "metadata": {
    "colab": {},
    "colab_type": "code",
    "id": "wb0kvLv78Nn4"
   },
   "outputs": [],
   "source": [
    "def trainIters(encoder1, decoder1, n_iters, printEvery, plot_every=100, learning_rate=0.02):\n",
    "    start = time.time()\n",
    "    plot_losses = []\n",
    "    print_loss_total = 0 \n",
    "    if DEBUG:\n",
    "      print(\"Inside TrainIters\")\n",
    "      print(print_loss_total)\n",
    "    plot_loss_total = 0  \n",
    "\n",
    "    encoder_optimizer = optim.SGD(encoder1.parameters(), lr=learning_rate)\n",
    "    decoder_optimizer = optim.SGD(decoder1.parameters(), lr=learning_rate)\n",
    "    training_pairs = [tensorsFromPair(random.choice(pairs))\n",
    "                      for i in range(n_iters)]\n",
    "    criterion = nn.NLLLoss()\n",
    "\n",
    "    for iter in range(1, n_iters + 1):\n",
    "        training_pair = training_pairs[iter - 1]\n",
    "        input_tensor = training_pair[0]\n",
    "        target_tensor = training_pair[1]\n",
    "\n",
    "        loss = train(input_tensor, target_tensor, encoder1,decoder1, encoder_optimizer, decoder_optimizer, criterion)\n",
    "        print_loss_total = print_loss_total+ loss\n",
    "        plot_loss_total =plot_loss_total+ loss\n",
    "        if DEBUG:\n",
    "          print(\"Total loss\",plot_loss_total)\n",
    "          \n",
    "        if iter % printEvery == 0:\n",
    "            print_loss_avg = print_loss_total / printEvery\n",
    "            print_loss_total = 0\n",
    "            print('%s (%d %d%%) %.4f' % (timeSince(start, iter / n_iters),iter, iter / n_iters * 100, print_loss_avg))\n",
    "            if DEBUG:\n",
    "              print(\"Inside print\")\n",
    "              print(print_loss_total)\n",
    "\n",
    "        if iter % printEvery == 0:\n",
    "            plot_loss_avg = plot_loss_total / plot_every\n",
    "            plot_losses.append(plot_loss_avg)\n",
    "            plot_loss_total = 0\n"
   ]
  },
  {
   "cell_type": "code",
   "execution_count": 0,
   "metadata": {
    "colab": {},
    "colab_type": "code",
    "id": "en9BFhPS8Odd"
   },
   "outputs": [],
   "source": [
    "\n",
    "def evaluate(encoder, decoder, sentence, max_length=MAX_LENGTH):\n",
    "    with torch.no_grad():\n",
    "        input_tensor = tensorFromSentence(input_lang, sentence)\n",
    "        input_length = input_tensor.size()[0]\n",
    "        encoder_hidden = encoder.initHidden()\n",
    "\n",
    "        encoder_outputs = torch.zeros(max_length, encoder.hidden_size, device=device)\n",
    "\n",
    "        for ei in range(input_length):\n",
    "            encoder_output, encoder_hidden = encoder(input_tensor[ei],\n",
    "                                                     encoder_hidden)\n",
    "            encoder_outputs[ei] += encoder_output[0, 0]\n",
    "\n",
    "        decoder_input = torch.tensor([[SOS_token]], device=device)  # SOS\n",
    "\n",
    "        decoder_hidden = encoder_hidden\n",
    "\n",
    "        decoded_words = []\n",
    "        decoder_attentions = torch.zeros(max_length, max_length)\n",
    "\n",
    "        for di in range(max_length):\n",
    "            decoder_output, decoder_hidden, decoder_attention = decoder(\n",
    "                decoder_input, decoder_hidden, encoder_outputs)\n",
    "            decoder_attentions[di] = decoder_attention.data\n",
    "            topv, topi = decoder_output.data.topk(1)\n",
    "            if topi.item() == EOS_token:\n",
    "                decoded_words.append('<EOS>')\n",
    "                break\n",
    "            else:\n",
    "                decoded_words.append(output_lang.index2word[topi.item()])\n",
    "\n",
    "            decoder_input = topi.squeeze().detach()\n",
    "\n",
    "        \n",
    "        return decoded_words, decoder_attentions[:di + 1]"
   ]
  },
  {
   "cell_type": "code",
   "execution_count": 0,
   "metadata": {
    "colab": {},
    "colab_type": "code",
    "id": "KyPob8wQBeI0"
   },
   "outputs": [],
   "source": [
    "\n",
    "        "
   ]
  },
  {
   "cell_type": "code",
   "execution_count": 0,
   "metadata": {
    "colab": {},
    "colab_type": "code",
    "id": "uq7bEuVCXdKb"
   },
   "outputs": [],
   "source": [
    "hidden_size = 256\n",
    "name1=\"gdrive/My Drive/dataset/atten_encoder1\"\n",
    "name2= \"gdrive/My Drive/dataset/atten_decoder1\"\n",
    "iterations=50000\n",
    "dropout=0.1"
   ]
  },
  {
   "cell_type": "code",
   "execution_count": 58,
   "metadata": {
    "colab": {
     "base_uri": "https://localhost:8080/",
     "height": 197
    },
    "colab_type": "code",
    "id": "SuAGiGUiBjOm",
    "outputId": "cac45394-824b-47f7-80e2-6d039786a00f"
   },
   "outputs": [
    {
     "name": "stdout",
     "output_type": "stream",
     "text": [
      "3m 11s (- 28m 40s) (5000 10%) 4.9238\n",
      "6m 32s (- 26m 9s) (10000 20%) 4.8630\n",
      "10m 1s (- 23m 24s) (15000 30%) 4.7969\n",
      "13m 32s (- 20m 18s) (20000 40%) 4.5207\n",
      "17m 11s (- 17m 11s) (25000 50%) 4.2961\n",
      "20m 57s (- 13m 58s) (30000 60%) 4.0388\n",
      "24m 39s (- 10m 34s) (35000 70%) 3.8619\n",
      "28m 24s (- 7m 6s) (40000 80%) 3.6704\n",
      "32m 8s (- 3m 34s) (45000 90%) 3.5761\n",
      "35m 46s (- 0m 0s) (50000 100%) 3.4379\n"
     ]
    }
   ],
   "source": [
    "\n",
    "atten_encoder1 = EncoderRNN(input_lang.n_words, hidden_size).to(device)\n",
    "attn_decoder1 = AttnDecoderRNN(hidden_size, output_lang.n_words, dropout_p=0.1).to(device)\n",
    "\n",
    "trainIters(atten_encoder1,attn_decoder1, iterations, print_every=5000)"
   ]
  },
  {
   "cell_type": "code",
   "execution_count": 0,
   "metadata": {
    "colab": {},
    "colab_type": "code",
    "id": "zMuX2V6iRf3g"
   },
   "outputs": [],
   "source": []
  },
  {
   "cell_type": "markdown",
   "metadata": {
    "colab_type": "text",
    "id": "dG5epeLTRfbb"
   },
   "source": []
  },
  {
   "cell_type": "code",
   "execution_count": 0,
   "metadata": {
    "colab": {},
    "colab_type": "code",
    "id": "nmxBVK_mB_3y"
   },
   "outputs": [],
   "source": []
  },
  {
   "cell_type": "markdown",
   "metadata": {
    "colab_type": "text",
    "id": "visA_xoHcV5r"
   },
   "source": [
    "Save the model"
   ]
  },
  {
   "cell_type": "code",
   "execution_count": 0,
   "metadata": {
    "colab": {},
    "colab_type": "code",
    "id": "5HwOLN-LcZbW"
   },
   "outputs": [],
   "source": [
    "# torch.save(atten_encoder1.state_dict(),name1)\n",
    "# device = torch.device('cpu')\n",
    "# torch.save(attn_decoder1.state_dict(),name2)\n"
   ]
  },
  {
   "cell_type": "markdown",
   "metadata": {
    "colab_type": "text",
    "id": "A2Kdd3sQW8Cw"
   },
   "source": [
    "Load the model"
   ]
  },
  {
   "cell_type": "code",
   "execution_count": 22,
   "metadata": {
    "colab": {
     "base_uri": "https://localhost:8080/",
     "height": 35
    },
    "colab_type": "code",
    "id": "Yy17o6mvpL41",
    "outputId": "5f0df608-2a6f-4fec-c484-5eaf68f5da5e"
   },
   "outputs": [
    {
     "data": {
      "text/plain": [
       "<All keys matched successfully>"
      ]
     },
     "execution_count": 22,
     "metadata": {
      "tags": []
     },
     "output_type": "execute_result"
    }
   ],
   "source": [
    "\n",
    "encoder_model = EncoderRNN(input_lang.n_words, hidden_size).to(device)\n",
    "encoder_model.load_state_dict(torch.load(name1, map_location=device))\n",
    "\n",
    "atten_decoder_model = AttnDecoderRNN(hidden_size, output_lang.n_words, dropout_p=0.1).to(device)\n",
    "atten_decoder_model.load_state_dict(torch.load(name2, map_location=device))"
   ]
  },
  {
   "cell_type": "code",
   "execution_count": 0,
   "metadata": {
    "colab": {},
    "colab_type": "code",
    "id": "EO2TTXiSZYyN"
   },
   "outputs": [],
   "source": [
    "hindi_dev_sent=file_dev_x.read().split('\\n')\n",
    "eng_dev_sent=file_dev_y.read().split('\\n')\n",
    "hindi_test_sent=file_test_x.read().split('\\n')\n",
    "eng_test_sent=file_test_y.read().split('\\n')\n",
    "if DEBUG:\n",
    "    print(eng_dev_sent[0])\n",
    "    print(len(eng_dev_sent))\n",
    "    print(hindi_dev_sent[0])\n",
    "    print(len(hindi_dev_sent))\n",
    "    print(eng_test_sent[0])\n",
    "    print(len(eng_test_sent))\n",
    "    print(hindi_test_sent[0])\n",
    "    print(len(hindi_test_sent))"
   ]
  },
  {
   "cell_type": "code",
   "execution_count": 24,
   "metadata": {
    "colab": {
     "base_uri": "https://localhost:8080/",
     "height": 311
    },
    "colab_type": "code",
    "id": "axK6S0GpZYaz",
    "outputId": "8047152d-94dc-43c1-eef2-1ae89b35db6a"
   },
   "outputs": [
    {
     "name": "stdout",
     "output_type": "stream",
     "text": [
      "['गाँठ', 'या', 'या', 'या', 'रंग', 'या', 'है', '।', '।', '।', '।', '<EOS>']\n"
     ]
    },
    {
     "data": {
      "text/plain": [
       "<matplotlib.image.AxesImage at 0x7f3d65164630>"
      ]
     },
     "execution_count": 24,
     "metadata": {
      "tags": []
     },
     "output_type": "execute_result"
    },
    {
     "data": {
      "image/png": "[encoded data removed]",
      "text/plain": [
       "<Figure size 360x288 with 1 Axes>"
      ]
     },
     "metadata": {
      "tags": []
     },
     "output_type": "display_data"
    }
   ],
   "source": [
    "output_words,atten= evaluate(encoder_model, atten_decoder_model, \"The knot can be of normal color or else of black color .\")\n",
    "\n",
    "print(output_words)\n",
    "plt.matshow((atten.numpy())[:,:15])"
   ]
  },
  {
   "cell_type": "code",
   "execution_count": 26,
   "metadata": {
    "colab": {
     "base_uri": "https://localhost:8080/",
     "height": 287
    },
    "colab_type": "code",
    "id": "yW2lTlPCZZgJ",
    "outputId": "c1d92081-6ea6-4ebc-a206-b4747b0c758f"
   },
   "outputs": [
    {
     "name": "stdout",
     "output_type": "stream",
     "text": [
      "Saliva is formed by chewing the chewing gum .\n",
      "['रोगी', 'से', 'से', 'से', 'का', 'है', '।', '।', '<EOS>']\n",
      "bleu Score :  0.045\n",
      "Chewing gum helps in keeping the teeth clean .\n",
      "['दाँत', 'बच्चा', 'बैक्टीरिया', 'को', 'अपनी', 'मदद', 'करता', '।', '<EOS>']\n",
      "bleu Score :  0.046\n",
      "Sugared chewing gum is not supposed to be good for health .\n",
      "['स्वास्थ्य', 'के', 'लिए', 'के', 'लिए', 'के', 'के', 'लिए', 'लिए', 'के', 'के', 'के', 'लिए', 'लिए', 'के', 'लिए', 'के', '<EOS>']\n",
      "bleu Score :  0.059000000000000004\n",
      "That is why dentists do not suggest chewing sugared chewing gum .\n",
      "['हर्निया', 'को', 'स्वस्थ', 'नहीं', 'साथ', '।', 'है', '।', '।', '।', '<EOS>']\n",
      "bleu Score :  0.065\n",
      "Get the teeth checked-up regularly .\n",
      "['दाँतों', 'को', 'दाँतों', 'दाँत', 'दाँत', '।', 'से', '।', '।', '<EOS>']\n",
      "bleu Score :  0.036000000000000004\n"
     ]
    }
   ],
   "source": [
    "from nltk.translate.bleu_score import sentence_bleu\n",
    "from nltk.translate.bleu_score import SmoothingFunction\n",
    "\n",
    "for i in eng_test_sent[15:20]:\n",
    "  \n",
    "  print(i)\n",
    "  output_words,tens= evaluate(encoder_model, atten_decoder_model,i)\n",
    "  print(output_words)\n",
    "  # plt.matshow((tens.numpy())[:,:10])\n",
    "  # score = sentence_bleu(i, output_words)\n",
    "  smoothie = SmoothingFunction().method4\n",
    "  score = sentence_bleu(i, output_words, smoothing_function=smoothie)\n",
    "  print(\"bleu Score : \",score)\n"
   ]
  },
  {
   "cell_type": "code",
   "execution_count": 0,
   "metadata": {
    "colab": {},
    "colab_type": "code",
    "id": "cSGCuJ6Yxfyn"
   },
   "outputs": [],
   "source": []
  },
  {
   "cell_type": "code",
   "execution_count": 0,
   "metadata": {
    "colab": {},
    "colab_type": "code",
    "id": "-QG40pVjgwHc"
   },
   "outputs": [],
   "source": []
  }
 ],
 "metadata": {
  "accelerator": "GPU",
  "colab": {
   "collapsed_sections": [],
   "name": "attention_Paper2.ipynb",
   "provenance": []
  },
  "kernelspec": {
   "display_name": "Python 3",
   "language": "python",
   "name": "python3"
  },
  "language_info": {
   "codemirror_mode": {
    "name": "ipython",
    "version": 3
   },
   "file_extension": ".py",
   "mimetype": "text/x-python",
   "name": "python",
   "nbconvert_exporter": "python",
   "pygments_lexer": "ipython3",
   "version": "3.6.9"
  }
 },
 "nbformat": 4,
 "nbformat_minor": 1
}
